{
 "cells": [
  {
   "cell_type": "code",
   "execution_count": 1,
   "metadata": {},
   "outputs": [],
   "source": [
    "import pandas as pd\n",
    "import stripe"
   ]
  },
  {
   "cell_type": "code",
   "execution_count": 3,
   "metadata": {},
   "outputs": [],
   "source": [
    "with open('strip-api-key.txt') as file:\n",
    "    apikey = file.readlines()\n",
    "\n",
    "stripe.api_key = apikey"
   ]
  },
  {
   "cell_type": "code",
   "execution_count": 7,
   "metadata": {},
   "outputs": [
    {
     "data": {
      "text/html": [
       "<div>\n",
       "<style scoped>\n",
       "    .dataframe tbody tr th:only-of-type {\n",
       "        vertical-align: middle;\n",
       "    }\n",
       "\n",
       "    .dataframe tbody tr th {\n",
       "        vertical-align: top;\n",
       "    }\n",
       "\n",
       "    .dataframe thead th {\n",
       "        text-align: right;\n",
       "    }\n",
       "</style>\n",
       "<table border=\"1\" class=\"dataframe\">\n",
       "  <thead>\n",
       "    <tr style=\"text-align: right;\">\n",
       "      <th></th>\n",
       "      <th>Name</th>\n",
       "      <th>email</th>\n",
       "      <th>Billing country</th>\n",
       "      <th>Language</th>\n",
       "      <th>Subscription ID</th>\n",
       "      <th>Subscription Price ID</th>\n",
       "      <th>Customer Coupon ID</th>\n",
       "      <th>Date subscription will start</th>\n",
       "      <th>Address Line 1</th>\n",
       "      <th>Post code</th>\n",
       "      <th>City</th>\n",
       "      <th>IBAN</th>\n",
       "    </tr>\n",
       "  </thead>\n",
       "  <tbody>\n",
       "    <tr>\n",
       "      <th>0</th>\n",
       "      <td>Taylor Swift</td>\n",
       "      <td>taylor@erastour.com</td>\n",
       "      <td>DE</td>\n",
       "      <td>German</td>\n",
       "      <td>prod_Q1ZUpSCoC0abRG</td>\n",
       "      <td>price_1PBWLN2M6UEsord1wzEyXSIK</td>\n",
       "      <td>SQofG6HA</td>\n",
       "      <td>01.06.2024</td>\n",
       "      <td>Billionaires Row 3</td>\n",
       "      <td>12345</td>\n",
       "      <td>Munich</td>\n",
       "      <td>DE55500105175375652875</td>\n",
       "    </tr>\n",
       "    <tr>\n",
       "      <th>1</th>\n",
       "      <td>Beyonce Knowles</td>\n",
       "      <td>beyonce@renaissance.com</td>\n",
       "      <td>DE</td>\n",
       "      <td>English</td>\n",
       "      <td>prod_Q1ifNDWifEkj8a</td>\n",
       "      <td>price_1PBfE72M6UEsord1ejWpov0e</td>\n",
       "      <td>VXTbVnIx</td>\n",
       "      <td>01.06.2024</td>\n",
       "      <td>Bee Hive Lane 8</td>\n",
       "      <td>88776</td>\n",
       "      <td>Hamburg</td>\n",
       "      <td>DE62500105173438132166</td>\n",
       "    </tr>\n",
       "  </tbody>\n",
       "</table>\n",
       "</div>"
      ],
      "text/plain": [
       "              Name                    email Billing country Language  \\\n",
       "0     Taylor Swift      taylor@erastour.com              DE   German   \n",
       "1  Beyonce Knowles  beyonce@renaissance.com              DE  English   \n",
       "\n",
       "       Subscription ID           Subscription Price ID Customer Coupon ID  \\\n",
       "0  prod_Q1ZUpSCoC0abRG  price_1PBWLN2M6UEsord1wzEyXSIK           SQofG6HA   \n",
       "1  prod_Q1ifNDWifEkj8a  price_1PBfE72M6UEsord1ejWpov0e           VXTbVnIx   \n",
       "\n",
       "  Date subscription will start      Address Line 1  Post code     City  \\\n",
       "0                   01.06.2024  Billionaires Row 3      12345   Munich   \n",
       "1                   01.06.2024     Bee Hive Lane 8      88776  Hamburg   \n",
       "\n",
       "                     IBAN  \n",
       "0  DE55500105175375652875  \n",
       "1  DE62500105173438132166  "
      ]
     },
     "execution_count": 7,
     "metadata": {},
     "output_type": "execute_result"
    }
   ],
   "source": [
    "df = pd.read_csv('Test Data.csv')\n",
    "df"
   ]
  },
  {
   "cell_type": "code",
   "execution_count": 36,
   "metadata": {},
   "outputs": [
    {
     "data": {
      "text/plain": [
       "<Customer customer id=cus_Q2YEsQzb7uwqk2 at 0x240f4f5e350> JSON: {\n",
       "  \"address\": {\n",
       "    \"city\": \"Munich\",\n",
       "    \"country\": \"DE\",\n",
       "    \"line1\": \"Billionaires Row 3\",\n",
       "    \"line2\": null,\n",
       "    \"postal_code\": null,\n",
       "    \"state\": null\n",
       "  },\n",
       "  \"balance\": 0,\n",
       "  \"created\": 1714769693,\n",
       "  \"currency\": null,\n",
       "  \"default_source\": null,\n",
       "  \"delinquent\": false,\n",
       "  \"description\": null,\n",
       "  \"discount\": null,\n",
       "  \"email\": \"taylor@erastour.com\",\n",
       "  \"id\": \"cus_Q2YEsQzb7uwqk2\",\n",
       "  \"invoice_prefix\": \"66C5AFB3\",\n",
       "  \"invoice_settings\": {\n",
       "    \"custom_fields\": null,\n",
       "    \"default_payment_method\": null,\n",
       "    \"footer\": null,\n",
       "    \"rendering_options\": null\n",
       "  },\n",
       "  \"livemode\": false,\n",
       "  \"metadata\": {},\n",
       "  \"name\": \"Taylor Swift\",\n",
       "  \"next_invoice_sequence\": 1,\n",
       "  \"object\": \"customer\",\n",
       "  \"phone\": null,\n",
       "  \"preferred_locales\": [\n",
       "    \"german\"\n",
       "  ],\n",
       "  \"shipping\": null,\n",
       "  \"tax_exempt\": \"none\",\n",
       "  \"test_clock\": null\n",
       "}"
      ]
     },
     "execution_count": 36,
     "metadata": {},
     "output_type": "execute_result"
    }
   ],
   "source": [
    "stripe.Customer.create(\n",
    "    name=df.loc[0]['Name'],\n",
    "    email=df.loc[0]['email'],\n",
    "    address={'country':df.loc[0]['Billing country'],\n",
    "             'city':df.loc[0]['City'],\n",
    "             'line1':df.loc[0]['Address Line 1']},\n",
    "    preferred_locales=[df.loc[0]['Language']]\n",
    "    )"
   ]
  },
  {
   "cell_type": "code",
   "execution_count": 28,
   "metadata": {},
   "outputs": [
    {
     "data": {
      "text/plain": [
       "<ListObject list at 0x240f57ef340> JSON: {\n",
       "  \"data\": [\n",
       "    {\n",
       "      \"address\": {\n",
       "        \"city\": \"Munich\",\n",
       "        \"country\": \"DE\",\n",
       "        \"line1\": \"Billionaires Row 3\",\n",
       "        \"line2\": null,\n",
       "        \"postal_code\": null,\n",
       "        \"state\": null\n",
       "      },\n",
       "      \"balance\": 0,\n",
       "      \"created\": 1714766857,\n",
       "      \"currency\": null,\n",
       "      \"default_source\": null,\n",
       "      \"delinquent\": false,\n",
       "      \"description\": null,\n",
       "      \"discount\": null,\n",
       "      \"email\": \"taylor@erastour.com\",\n",
       "      \"id\": \"cus_Q2XTK7PKcnkHbe\",\n",
       "      \"invoice_prefix\": \"C24836BE\",\n",
       "      \"invoice_settings\": {\n",
       "        \"custom_fields\": null,\n",
       "        \"default_payment_method\": null,\n",
       "        \"footer\": null,\n",
       "        \"rendering_options\": null\n",
       "      },\n",
       "      \"livemode\": false,\n",
       "      \"metadata\": {},\n",
       "      \"name\": \"Taylor Swift\",\n",
       "      \"next_invoice_sequence\": 1,\n",
       "      \"object\": \"customer\",\n",
       "      \"phone\": null,\n",
       "      \"preferred_locales\": [\n",
       "        \"german\"\n",
       "      ],\n",
       "      \"shipping\": null,\n",
       "      \"tax_exempt\": \"none\",\n",
       "      \"test_clock\": null\n",
       "    },\n",
       "    {\n",
       "      \"address\": {\n",
       "        \"city\": null,\n",
       "        \"country\": \"DE\",\n",
       "        \"line1\": null,\n",
       "        \"line2\": null,\n",
       "        \"postal_code\": null,\n",
       "        \"state\": null\n",
       "      },\n",
       "      \"balance\": 0,\n",
       "      \"created\": 1714765404,\n",
       "      \"currency\": null,\n",
       "      \"default_source\": null,\n",
       "      \"delinquent\": false,\n",
       "      \"description\": null,\n",
       "      \"discount\": null,\n",
       "      \"email\": \"taylor@erastour.com\",\n",
       "      \"id\": \"cus_Q2X5KQH0GFa7UB\",\n",
       "      \"invoice_prefix\": \"97E6C14E\",\n",
       "      \"invoice_settings\": {\n",
       "        \"custom_fields\": null,\n",
       "        \"default_payment_method\": null,\n",
       "        \"footer\": null,\n",
       "        \"rendering_options\": null\n",
       "      },\n",
       "      \"livemode\": false,\n",
       "      \"metadata\": {},\n",
       "      \"name\": \"Taylor Swift\",\n",
       "      \"next_invoice_sequence\": 1,\n",
       "      \"object\": \"customer\",\n",
       "      \"phone\": null,\n",
       "      \"preferred_locales\": [],\n",
       "      \"shipping\": null,\n",
       "      \"tax_exempt\": \"none\",\n",
       "      \"test_clock\": null\n",
       "    },\n",
       "    {\n",
       "      \"address\": null,\n",
       "      \"balance\": 0,\n",
       "      \"created\": 1714764977,\n",
       "      \"currency\": null,\n",
       "      \"default_source\": null,\n",
       "      \"delinquent\": false,\n",
       "      \"description\": null,\n",
       "      \"discount\": null,\n",
       "      \"email\": null,\n",
       "      \"id\": \"cus_Q2WxTCCvFzwIsM\",\n",
       "      \"invoice_prefix\": \"BD5F197F\",\n",
       "      \"invoice_settings\": {\n",
       "        \"custom_fields\": null,\n",
       "        \"default_payment_method\": null,\n",
       "        \"footer\": null,\n",
       "        \"rendering_options\": null\n",
       "      },\n",
       "      \"livemode\": false,\n",
       "      \"metadata\": {},\n",
       "      \"name\": \"Taylor Swift\",\n",
       "      \"next_invoice_sequence\": 1,\n",
       "      \"object\": \"customer\",\n",
       "      \"phone\": null,\n",
       "      \"preferred_locales\": [],\n",
       "      \"shipping\": null,\n",
       "      \"tax_exempt\": \"none\",\n",
       "      \"test_clock\": null\n",
       "    }\n",
       "  ],\n",
       "  \"has_more\": true,\n",
       "  \"object\": \"list\",\n",
       "  \"url\": \"/v1/customers\"\n",
       "}"
      ]
     },
     "execution_count": 28,
     "metadata": {},
     "output_type": "execute_result"
    }
   ],
   "source": [
    "stripe.Customer.list(limit=3)"
   ]
  },
  {
   "cell_type": "code",
   "execution_count": 30,
   "metadata": {},
   "outputs": [],
   "source": [
    "test = stripe.Customer.retrieve(\"cus_Q2XTK7PKcnkHbe\")\n"
   ]
  },
  {
   "cell_type": "code",
   "execution_count": 31,
   "metadata": {},
   "outputs": [
    {
     "name": "stdout",
     "output_type": "stream",
     "text": [
      "{\n",
      "  \"address\": {\n",
      "    \"city\": \"Munich\",\n",
      "    \"country\": \"DE\",\n",
      "    \"line1\": \"Billionaires Row 3\",\n",
      "    \"line2\": null,\n",
      "    \"postal_code\": null,\n",
      "    \"state\": null\n",
      "  },\n",
      "  \"balance\": 0,\n",
      "  \"created\": 1714766857,\n",
      "  \"currency\": null,\n",
      "  \"default_source\": null,\n",
      "  \"delinquent\": false,\n",
      "  \"description\": null,\n",
      "  \"discount\": null,\n",
      "  \"email\": \"taylor@erastour.com\",\n",
      "  \"id\": \"cus_Q2XTK7PKcnkHbe\",\n",
      "  \"invoice_prefix\": \"C24836BE\",\n",
      "  \"invoice_settings\": {\n",
      "    \"custom_fields\": null,\n",
      "    \"default_payment_method\": null,\n",
      "    \"footer\": null,\n",
      "    \"rendering_options\": null\n",
      "  },\n",
      "  \"livemode\": false,\n",
      "  \"metadata\": {},\n",
      "  \"name\": \"Taylor Swift\",\n",
      "  \"next_invoice_sequence\": 1,\n",
      "  \"object\": \"customer\",\n",
      "  \"phone\": null,\n",
      "  \"preferred_locales\": [\n",
      "    \"german\"\n",
      "  ],\n",
      "  \"shipping\": null,\n",
      "  \"tax_exempt\": \"none\",\n",
      "  \"test_clock\": null\n",
      "}\n"
     ]
    }
   ],
   "source": [
    "print(test)"
   ]
  },
  {
   "cell_type": "code",
   "execution_count": 33,
   "metadata": {},
   "outputs": [
    {
     "ename": "InvalidRequestError",
     "evalue": "Request req_DwamTHIxbmlR3K: Missing required param: items.",
     "output_type": "error",
     "traceback": [
      "\u001b[1;31m---------------------------------------------------------------------------\u001b[0m",
      "\u001b[1;31mInvalidRequestError\u001b[0m                       Traceback (most recent call last)",
      "Cell \u001b[1;32mIn[33], line 1\u001b[0m\n\u001b[1;32m----> 1\u001b[0m \u001b[43mstripe\u001b[49m\u001b[38;5;241;43m.\u001b[39;49m\u001b[43mSubscription\u001b[49m\u001b[38;5;241;43m.\u001b[39;49m\u001b[43mcreate\u001b[49m\u001b[43m(\u001b[49m\n\u001b[0;32m      2\u001b[0m \u001b[43m  \u001b[49m\u001b[43mcustomer\u001b[49m\u001b[38;5;241;43m=\u001b[39;49m\u001b[38;5;124;43m\"\u001b[39;49m\u001b[38;5;124;43mcus_Q2XTK7PKcnkHbe\u001b[39;49m\u001b[38;5;124;43m\"\u001b[39;49m\n\u001b[0;32m      3\u001b[0m \u001b[43m)\u001b[49m\n",
      "File \u001b[1;32md:\\Documents\\GitHub\\bsports-stripe-migration\\venv\\Lib\\site-packages\\stripe\\_subscription.py:2360\u001b[0m, in \u001b[0;36mSubscription.create\u001b[1;34m(cls, **params)\u001b[0m\n\u001b[0;32m   2345\u001b[0m \u001b[38;5;129m@classmethod\u001b[39m\n\u001b[0;32m   2346\u001b[0m \u001b[38;5;28;01mdef\u001b[39;00m \u001b[38;5;21mcreate\u001b[39m(\n\u001b[0;32m   2347\u001b[0m     \u001b[38;5;28mcls\u001b[39m, \u001b[38;5;241m*\u001b[39m\u001b[38;5;241m*\u001b[39mparams: Unpack[\u001b[38;5;124m\"\u001b[39m\u001b[38;5;124mSubscription.CreateParams\u001b[39m\u001b[38;5;124m\"\u001b[39m]\n\u001b[0;32m   2348\u001b[0m ) \u001b[38;5;241m-\u001b[39m\u001b[38;5;241m>\u001b[39m \u001b[38;5;124m\"\u001b[39m\u001b[38;5;124mSubscription\u001b[39m\u001b[38;5;124m\"\u001b[39m:\n\u001b[0;32m   2349\u001b[0m \u001b[38;5;250m    \u001b[39m\u001b[38;5;124;03m\"\"\"\u001b[39;00m\n\u001b[0;32m   2350\u001b[0m \u001b[38;5;124;03m    Creates a new subscription on an existing customer. Each customer can have up to 500 active or scheduled subscriptions.\u001b[39;00m\n\u001b[0;32m   2351\u001b[0m \n\u001b[1;32m   (...)\u001b[0m\n\u001b[0;32m   2356\u001b[0m \u001b[38;5;124;03m    Schedules provide the flexibility to model more complex billing configurations that change over time.\u001b[39;00m\n\u001b[0;32m   2357\u001b[0m \u001b[38;5;124;03m    \"\"\"\u001b[39;00m\n\u001b[0;32m   2358\u001b[0m     \u001b[38;5;28;01mreturn\u001b[39;00m cast(\n\u001b[0;32m   2359\u001b[0m         \u001b[38;5;124m\"\u001b[39m\u001b[38;5;124mSubscription\u001b[39m\u001b[38;5;124m\"\u001b[39m,\n\u001b[1;32m-> 2360\u001b[0m         \u001b[38;5;28;43mcls\u001b[39;49m\u001b[38;5;241;43m.\u001b[39;49m\u001b[43m_static_request\u001b[49m\u001b[43m(\u001b[49m\n\u001b[0;32m   2361\u001b[0m \u001b[43m            \u001b[49m\u001b[38;5;124;43m\"\u001b[39;49m\u001b[38;5;124;43mpost\u001b[39;49m\u001b[38;5;124;43m\"\u001b[39;49m\u001b[43m,\u001b[49m\n\u001b[0;32m   2362\u001b[0m \u001b[43m            \u001b[49m\u001b[38;5;28;43mcls\u001b[39;49m\u001b[38;5;241;43m.\u001b[39;49m\u001b[43mclass_url\u001b[49m\u001b[43m(\u001b[49m\u001b[43m)\u001b[49m\u001b[43m,\u001b[49m\n\u001b[0;32m   2363\u001b[0m \u001b[43m            \u001b[49m\u001b[43mparams\u001b[49m\u001b[38;5;241;43m=\u001b[39;49m\u001b[43mparams\u001b[49m\u001b[43m,\u001b[49m\n\u001b[0;32m   2364\u001b[0m \u001b[43m        \u001b[49m\u001b[43m)\u001b[49m,\n\u001b[0;32m   2365\u001b[0m     )\n",
      "File \u001b[1;32md:\\Documents\\GitHub\\bsports-stripe-migration\\venv\\Lib\\site-packages\\stripe\\_api_resource.py:177\u001b[0m, in \u001b[0;36mAPIResource._static_request\u001b[1;34m(cls, method_, url_, params, base_address, api_mode)\u001b[0m\n\u001b[0;32m    166\u001b[0m \u001b[38;5;129m@classmethod\u001b[39m\n\u001b[0;32m    167\u001b[0m \u001b[38;5;28;01mdef\u001b[39;00m \u001b[38;5;21m_static_request\u001b[39m(\n\u001b[0;32m    168\u001b[0m     \u001b[38;5;28mcls\u001b[39m,\n\u001b[1;32m   (...)\u001b[0m\n\u001b[0;32m    174\u001b[0m     api_mode: ApiMode \u001b[38;5;241m=\u001b[39m \u001b[38;5;124m\"\u001b[39m\u001b[38;5;124mV1\u001b[39m\u001b[38;5;124m\"\u001b[39m,\n\u001b[0;32m    175\u001b[0m ):\n\u001b[0;32m    176\u001b[0m     request_options, request_params \u001b[38;5;241m=\u001b[39m extract_options_from_dict(params)\n\u001b[1;32m--> 177\u001b[0m     \u001b[38;5;28;01mreturn\u001b[39;00m \u001b[43m_APIRequestor\u001b[49m\u001b[38;5;241;43m.\u001b[39;49m\u001b[43m_global_instance\u001b[49m\u001b[43m(\u001b[49m\u001b[43m)\u001b[49m\u001b[38;5;241;43m.\u001b[39;49m\u001b[43mrequest\u001b[49m\u001b[43m(\u001b[49m\n\u001b[0;32m    178\u001b[0m \u001b[43m        \u001b[49m\u001b[43mmethod_\u001b[49m\u001b[43m,\u001b[49m\n\u001b[0;32m    179\u001b[0m \u001b[43m        \u001b[49m\u001b[43murl_\u001b[49m\u001b[43m,\u001b[49m\n\u001b[0;32m    180\u001b[0m \u001b[43m        \u001b[49m\u001b[43mparams\u001b[49m\u001b[38;5;241;43m=\u001b[39;49m\u001b[43mrequest_params\u001b[49m\u001b[43m,\u001b[49m\n\u001b[0;32m    181\u001b[0m \u001b[43m        \u001b[49m\u001b[43moptions\u001b[49m\u001b[38;5;241;43m=\u001b[39;49m\u001b[43mrequest_options\u001b[49m\u001b[43m,\u001b[49m\n\u001b[0;32m    182\u001b[0m \u001b[43m        \u001b[49m\u001b[43mbase_address\u001b[49m\u001b[38;5;241;43m=\u001b[39;49m\u001b[43mbase_address\u001b[49m\u001b[43m,\u001b[49m\n\u001b[0;32m    183\u001b[0m \u001b[43m        \u001b[49m\u001b[43mapi_mode\u001b[49m\u001b[38;5;241;43m=\u001b[39;49m\u001b[43mapi_mode\u001b[49m\u001b[43m,\u001b[49m\n\u001b[0;32m    184\u001b[0m \u001b[43m    \u001b[49m\u001b[43m)\u001b[49m\n",
      "File \u001b[1;32md:\\Documents\\GitHub\\bsports-stripe-migration\\venv\\Lib\\site-packages\\stripe\\_api_requestor.py:196\u001b[0m, in \u001b[0;36m_APIRequestor.request\u001b[1;34m(self, method, url, params, options, base_address, api_mode, usage)\u001b[0m\n\u001b[0;32m    185\u001b[0m requestor \u001b[38;5;241m=\u001b[39m \u001b[38;5;28mself\u001b[39m\u001b[38;5;241m.\u001b[39m_replace_options(options)\n\u001b[0;32m    186\u001b[0m rbody, rcode, rheaders \u001b[38;5;241m=\u001b[39m requestor\u001b[38;5;241m.\u001b[39mrequest_raw(\n\u001b[0;32m    187\u001b[0m     method\u001b[38;5;241m.\u001b[39mlower(),\n\u001b[0;32m    188\u001b[0m     url,\n\u001b[1;32m   (...)\u001b[0m\n\u001b[0;32m    194\u001b[0m     usage\u001b[38;5;241m=\u001b[39musage,\n\u001b[0;32m    195\u001b[0m )\n\u001b[1;32m--> 196\u001b[0m resp \u001b[38;5;241m=\u001b[39m \u001b[43mrequestor\u001b[49m\u001b[38;5;241;43m.\u001b[39;49m\u001b[43m_interpret_response\u001b[49m\u001b[43m(\u001b[49m\u001b[43mrbody\u001b[49m\u001b[43m,\u001b[49m\u001b[43m \u001b[49m\u001b[43mrcode\u001b[49m\u001b[43m,\u001b[49m\u001b[43m \u001b[49m\u001b[43mrheaders\u001b[49m\u001b[43m)\u001b[49m\n\u001b[0;32m    198\u001b[0m \u001b[38;5;28;01mreturn\u001b[39;00m _convert_to_stripe_object(\n\u001b[0;32m    199\u001b[0m     resp\u001b[38;5;241m=\u001b[39mresp,\n\u001b[0;32m    200\u001b[0m     params\u001b[38;5;241m=\u001b[39mparams,\n\u001b[0;32m    201\u001b[0m     requestor\u001b[38;5;241m=\u001b[39mrequestor,\n\u001b[0;32m    202\u001b[0m     api_mode\u001b[38;5;241m=\u001b[39mapi_mode,\n\u001b[0;32m    203\u001b[0m )\n",
      "File \u001b[1;32md:\\Documents\\GitHub\\bsports-stripe-migration\\venv\\Lib\\site-packages\\stripe\\_api_requestor.py:732\u001b[0m, in \u001b[0;36m_APIRequestor._interpret_response\u001b[1;34m(self, rbody, rcode, rheaders)\u001b[0m\n\u001b[0;32m    724\u001b[0m     \u001b[38;5;28;01mraise\u001b[39;00m error\u001b[38;5;241m.\u001b[39mAPIError(\n\u001b[0;32m    725\u001b[0m         \u001b[38;5;124m\"\u001b[39m\u001b[38;5;124mInvalid response body from API: \u001b[39m\u001b[38;5;132;01m%s\u001b[39;00m\u001b[38;5;124m \u001b[39m\u001b[38;5;124m\"\u001b[39m\n\u001b[0;32m    726\u001b[0m         \u001b[38;5;124m\"\u001b[39m\u001b[38;5;124m(HTTP response code was \u001b[39m\u001b[38;5;132;01m%d\u001b[39;00m\u001b[38;5;124m)\u001b[39m\u001b[38;5;124m\"\u001b[39m \u001b[38;5;241m%\u001b[39m (rbody, rcode),\n\u001b[1;32m   (...)\u001b[0m\n\u001b[0;32m    729\u001b[0m         rheaders,\n\u001b[0;32m    730\u001b[0m     )\n\u001b[0;32m    731\u001b[0m \u001b[38;5;28;01mif\u001b[39;00m \u001b[38;5;28mself\u001b[39m\u001b[38;5;241m.\u001b[39m_should_handle_code_as_error(rcode):\n\u001b[1;32m--> 732\u001b[0m     \u001b[38;5;28;43mself\u001b[39;49m\u001b[38;5;241;43m.\u001b[39;49m\u001b[43mhandle_error_response\u001b[49m\u001b[43m(\u001b[49m\u001b[43mrbody\u001b[49m\u001b[43m,\u001b[49m\u001b[43m \u001b[49m\u001b[43mrcode\u001b[49m\u001b[43m,\u001b[49m\u001b[43m \u001b[49m\u001b[43mresp\u001b[49m\u001b[38;5;241;43m.\u001b[39;49m\u001b[43mdata\u001b[49m\u001b[43m,\u001b[49m\u001b[43m \u001b[49m\u001b[43mrheaders\u001b[49m\u001b[43m)\u001b[49m\n\u001b[0;32m    733\u001b[0m \u001b[38;5;28;01mreturn\u001b[39;00m resp\n",
      "File \u001b[1;32md:\\Documents\\GitHub\\bsports-stripe-migration\\venv\\Lib\\site-packages\\stripe\\_api_requestor.py:321\u001b[0m, in \u001b[0;36m_APIRequestor.handle_error_response\u001b[1;34m(self, rbody, rcode, resp, rheaders)\u001b[0m\n\u001b[0;32m    316\u001b[0m \u001b[38;5;28;01mif\u001b[39;00m err \u001b[38;5;129;01mis\u001b[39;00m \u001b[38;5;28;01mNone\u001b[39;00m:\n\u001b[0;32m    317\u001b[0m     err \u001b[38;5;241m=\u001b[39m \u001b[38;5;28mself\u001b[39m\u001b[38;5;241m.\u001b[39mspecific_api_error(\n\u001b[0;32m    318\u001b[0m         rbody, rcode, resp, rheaders, error_data\n\u001b[0;32m    319\u001b[0m     )\n\u001b[1;32m--> 321\u001b[0m \u001b[38;5;28;01mraise\u001b[39;00m err\n",
      "\u001b[1;31mInvalidRequestError\u001b[0m: Request req_DwamTHIxbmlR3K: Missing required param: items."
     ]
    }
   ],
   "source": [
    "stripe.Subscription.create(\n",
    "  customer=\"cus_Q2XTK7PKcnkHbe\",\n",
    "  items=[{\"price\": \"price_1PBWLN2M6UEsord1wzEyXSIK\"}],\n",
    ")"
   ]
  },
  {
   "cell_type": "code",
   "execution_count": 3,
   "metadata": {},
   "outputs": [],
   "source": []
  },
  {
   "cell_type": "code",
   "execution_count": 4,
   "metadata": {},
   "outputs": [
    {
     "data": {
      "text/plain": [
       "['sk_test_Hrs6SAopgFPF0bZXSN3f6ELN']"
      ]
     },
     "execution_count": 4,
     "metadata": {},
     "output_type": "execute_result"
    }
   ],
   "source": []
  },
  {
   "cell_type": "code",
   "execution_count": null,
   "metadata": {},
   "outputs": [],
   "source": []
  }
 ],
 "metadata": {
  "kernelspec": {
   "display_name": "venv",
   "language": "python",
   "name": "python3"
  },
  "language_info": {
   "codemirror_mode": {
    "name": "ipython",
    "version": 3
   },
   "file_extension": ".py",
   "mimetype": "text/x-python",
   "name": "python",
   "nbconvert_exporter": "python",
   "pygments_lexer": "ipython3",
   "version": "3.11.6"
  }
 },
 "nbformat": 4,
 "nbformat_minor": 2
}
